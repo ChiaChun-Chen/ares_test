{
 "cells": [
  {
   "cell_type": "code",
   "execution_count": 1,
   "metadata": {},
   "outputs": [
    {
     "name": "stderr",
     "output_type": "stream",
     "text": [
      "/hcds_vol/private/skes/anaconda3/envs/ares/lib/python3.10/site-packages/tqdm/auto.py:21: TqdmWarning: IProgress not found. Please update jupyter and ipywidgets. See https://ipywidgets.readthedocs.io/en/stable/user_install.html\n",
      "  from .autonotebook import tqdm as notebook_tqdm\n",
      "2024-04-27 10:32:13,779\tINFO util.py:154 -- Missing packages: ['ipywidgets']. Run `pip install -U ipywidgets`, then restart the notebook server for rich notebook output.\n"
     ]
    }
   ],
   "source": [
    "# 導入上級目錄\n",
    "# import sys \n",
    "# sys.path.append(\"..\") \n",
    "# from ARES.ares import ARES\n",
    "\n",
    "from ares import ARES"
   ]
  },
  {
   "cell_type": "code",
   "execution_count": 3,
   "metadata": {},
   "outputs": [
    {
     "name": "stdout",
     "output_type": "stream",
     "text": [
      "--------------------------------------------------------------------------\n",
      "Starting new learning rate: 5e-07\n",
      "--------------------------------------------------------------------------\n",
      "Dataset: /hcds_vol/private/skes/ARES/synthetic_datasets/datasets/nq_synthetic_queries_v4.1.tsv\n",
      "Model: google-bert/bert-base-multilingual-cased\n",
      "Test Set Selection: /hcds_vol/private/skes/ares_test/CCP_example_files/human_validation_set.tsv\n",
      "Number of Runs: 1\n",
      "Learning Rate: 5e-07\n",
      "Checkpoint Path: checkpoints/google-bert-bert-base-multilingual-cased/Context_Relevance_Label_human_validation_set_2024-04-27_11:28:24.pt\n",
      "Patience: 3\n",
      "Validation Set Choice: True\n",
      "Number of Epochs: 10\n",
      "Number of warmup steps: 100\n",
      "--------------------------------------------------------------------------\n"
     ]
    },
    {
     "name": "stderr",
     "output_type": "stream",
     "text": [
      "Tokenizing:   1%|          | 426/58387 [00:00<00:13, 4252.64it/s]Token indices sequence length is longer than the specified maximum sequence length for this model (658 > 512). Running this sequence through the model will result in indexing errors\n",
      "Tokenizing: 100%|██████████| 58387/58387 [00:12<00:00, 4520.48it/s]\n"
     ]
    },
    {
     "name": "stdout",
     "output_type": "stream",
     "text": [
      "---------------------------------------------------\n"
     ]
    },
    {
     "name": "stderr",
     "output_type": "stream",
     "text": [
      "                                                                   \r"
     ]
    },
    {
     "name": "stdout",
     "output_type": "stream",
     "text": [
      "Loading Model\n",
      "Number of labels: 2\n",
      "self.encoderModel: BertModel(\n",
      "  (embeddings): BertEmbeddings(\n",
      "    (word_embeddings): Embedding(119547, 768, padding_idx=0)\n",
      "    (position_embeddings): Embedding(512, 768)\n",
      "    (token_type_embeddings): Embedding(2, 768)\n",
      "    (LayerNorm): LayerNorm((768,), eps=1e-12, elementwise_affine=True)\n",
      "    (dropout): Dropout(p=0.1, inplace=False)\n",
      "  )\n",
      "  (encoder): BertEncoder(\n",
      "    (layer): ModuleList(\n",
      "      (0-11): 12 x BertLayer(\n",
      "        (attention): BertAttention(\n",
      "          (self): BertSelfAttention(\n",
      "            (query): Linear(in_features=768, out_features=768, bias=True)\n",
      "            (key): Linear(in_features=768, out_features=768, bias=True)\n",
      "            (value): Linear(in_features=768, out_features=768, bias=True)\n",
      "            (dropout): Dropout(p=0.1, inplace=False)\n",
      "          )\n",
      "          (output): BertSelfOutput(\n",
      "            (dense): Linear(in_features=768, out_features=768, bias=True)\n",
      "            (LayerNorm): LayerNorm((768,), eps=1e-12, elementwise_affine=True)\n",
      "            (dropout): Dropout(p=0.1, inplace=False)\n",
      "          )\n",
      "        )\n",
      "        (intermediate): BertIntermediate(\n",
      "          (dense): Linear(in_features=768, out_features=3072, bias=True)\n",
      "          (intermediate_act_fn): GELUActivation()\n",
      "        )\n",
      "        (output): BertOutput(\n",
      "          (dense): Linear(in_features=3072, out_features=768, bias=True)\n",
      "          (LayerNorm): LayerNorm((768,), eps=1e-12, elementwise_affine=True)\n",
      "          (dropout): Dropout(p=0.1, inplace=False)\n",
      "        )\n",
      "      )\n",
      "    )\n",
      "  )\n",
      "  (pooler): BertPooler(\n",
      "    (dense): Linear(in_features=768, out_features=768, bias=True)\n",
      "    (activation): Tanh()\n",
      "  )\n",
      ")\n",
      "Checkpoint Path: checkpoints/google-bert-bert-base-multilingual-cased/Context_Relevance_Label_human_validation_set_2024-04-27_11:28:24.pt\n",
      "Beginning Training\n",
      "Current Epoch: 0\n"
     ]
    },
    {
     "name": "stderr",
     "output_type": "stream",
     "text": [
      "100%|██████████| 6857/6857 [13:35<00:00,  8.41it/s]\n"
     ]
    },
    {
     "name": "stdout",
     "output_type": "stream",
     "text": [
      "[ 0/10] train_loss: 0.66044 valid_loss: 0.72116\n",
      "Validation loss decreased (inf --> 0.721163).  Saving model ...\n",
      "Current Epoch: 1\n"
     ]
    },
    {
     "name": "stderr",
     "output_type": "stream",
     "text": [
      "100%|██████████| 23/23 [00:07<00:00,  3.04it/s]\n",
      "100%|██████████| 6857/6857 [13:35<00:00,  8.41it/s]\n"
     ]
    },
    {
     "name": "stdout",
     "output_type": "stream",
     "text": [
      "[ 1/10] train_loss: 0.36271 valid_loss: 0.59686\n",
      "Validation loss decreased (0.721163 --> 0.596864).  Saving model ...\n",
      "Current Epoch: 2\n"
     ]
    },
    {
     "name": "stderr",
     "output_type": "stream",
     "text": [
      "100%|██████████| 23/23 [00:07<00:00,  3.03it/s]\n",
      "100%|██████████| 6857/6857 [13:35<00:00,  8.41it/s]\n"
     ]
    },
    {
     "name": "stdout",
     "output_type": "stream",
     "text": [
      "[ 2/10] train_loss: 0.18912 valid_loss: 0.58914\n",
      "Validation loss decreased (0.596864 --> 0.589140).  Saving model ...\n",
      "Current Epoch: 3\n"
     ]
    },
    {
     "name": "stderr",
     "output_type": "stream",
     "text": [
      "100%|██████████| 23/23 [00:07<00:00,  3.02it/s]\n",
      "100%|██████████| 6857/6857 [13:33<00:00,  8.43it/s]\n"
     ]
    },
    {
     "name": "stdout",
     "output_type": "stream",
     "text": [
      "[ 3/10] train_loss: 0.14826 valid_loss: 0.57663\n",
      "Validation loss decreased (0.589140 --> 0.576634).  Saving model ...\n",
      "Current Epoch: 4\n"
     ]
    },
    {
     "name": "stderr",
     "output_type": "stream",
     "text": [
      "100%|██████████| 23/23 [00:07<00:00,  2.99it/s]\n",
      "100%|██████████| 6857/6857 [13:34<00:00,  8.42it/s]\n"
     ]
    },
    {
     "name": "stdout",
     "output_type": "stream",
     "text": [
      "[ 4/10] train_loss: 0.13203 valid_loss: 0.56143\n",
      "Validation loss decreased (0.576634 --> 0.561427).  Saving model ...\n",
      "Current Epoch: 5\n"
     ]
    },
    {
     "name": "stderr",
     "output_type": "stream",
     "text": [
      "100%|██████████| 23/23 [00:07<00:00,  3.03it/s]\n",
      "100%|██████████| 6857/6857 [13:37<00:00,  8.39it/s]\n"
     ]
    },
    {
     "name": "stdout",
     "output_type": "stream",
     "text": [
      "[ 5/10] train_loss: 0.11992 valid_loss: 0.55045\n",
      "Validation loss decreased (0.561427 --> 0.550449).  Saving model ...\n",
      "Current Epoch: 6\n"
     ]
    },
    {
     "name": "stderr",
     "output_type": "stream",
     "text": [
      "100%|██████████| 23/23 [00:07<00:00,  3.04it/s]\n",
      "100%|██████████| 6857/6857 [13:37<00:00,  8.38it/s]\n"
     ]
    },
    {
     "name": "stdout",
     "output_type": "stream",
     "text": [
      "[ 6/10] train_loss: 0.11170 valid_loss: 0.54210\n",
      "Validation loss decreased (0.550449 --> 0.542096).  Saving model ...\n",
      "Current Epoch: 7\n"
     ]
    },
    {
     "name": "stderr",
     "output_type": "stream",
     "text": [
      "100%|██████████| 23/23 [00:07<00:00,  3.04it/s]\n",
      "100%|██████████| 6857/6857 [13:36<00:00,  8.40it/s]\n"
     ]
    },
    {
     "name": "stdout",
     "output_type": "stream",
     "text": [
      "[ 7/10] train_loss: 0.10560 valid_loss: 0.55150\n",
      "EarlyStopping counter: 1 out of 3\n",
      "Current Epoch: 8\n"
     ]
    },
    {
     "name": "stderr",
     "output_type": "stream",
     "text": [
      "100%|██████████| 23/23 [00:00<00:00, 24.73it/s]\n",
      "100%|██████████| 6857/6857 [13:35<00:00,  8.41it/s]\n"
     ]
    },
    {
     "name": "stdout",
     "output_type": "stream",
     "text": [
      "[ 8/10] train_loss: 0.09990 valid_loss: 0.55123\n",
      "EarlyStopping counter: 2 out of 3\n",
      "Current Epoch: 9\n"
     ]
    },
    {
     "name": "stderr",
     "output_type": "stream",
     "text": [
      "100%|██████████| 23/23 [00:00<00:00, 24.88it/s]\n",
      "100%|██████████| 6857/6857 [13:34<00:00,  8.42it/s]\n",
      "100%|██████████| 23/23 [00:00<00:00, 24.77it/s]\n"
     ]
    },
    {
     "name": "stdout",
     "output_type": "stream",
     "text": [
      "[ 9/10] train_loss: 0.09383 valid_loss: 0.54377\n",
      "EarlyStopping counter: 3 out of 3\n",
      "Early stopping\n",
      "Loading the Best Model\n",
      "Beginning Evaluation\n"
     ]
    },
    {
     "name": "stderr",
     "output_type": "stream",
     "text": [
      "100%|██████████| 23/23 [00:01<00:00, 19.56it/s]\n"
     ]
    },
    {
     "name": "stdout",
     "output_type": "stream",
     "text": [
      "--------------------------\n",
      "Predictions and Reference Shapes\n",
      "torch.Size([134])\n",
      "torch.Size([134])\n",
      "Accuracy for Test Set: 0.7835820895522388\n",
      "Macro F1 for Test Set: 77.70126814712802\n",
      "Micro F1 for Test Set: 78.3582089552239\n",
      "Positive / Negative Reference Ratio: 0.627\n",
      "Saved classification checkpoint to: checkpoints/google-bert-bert-base-multilingual-cased/Context_Relevance_Label_human_validation_set_2024-04-27_11:28:24.pt\n",
      "None\n"
     ]
    }
   ],
   "source": [
    "\n",
    "classifier_config = {\n",
    "    \"training_dataset\": [\"/hcds_vol/private/skes/ARES/synthetic_datasets/datasets/nq_synthetic_queries_v4.1.tsv\"], \n",
    "    \"validation_set\": [\"/hcds_vol/private/skes/ares_test/CCP_example_files/human_validation_set.tsv\"], \n",
    "    \"label_column\": [\"Context_Relevance_Label\"], \n",
    "    \"num_epochs\": 10, \n",
    "    \"patience_value\": 3, \n",
    "    \"learning_rate\": 5e-7,\n",
    "    \"assigned_batch_size\": 6,  \n",
    "    \"gradient_accumulation_multiplier\": 32, \n",
    "    \"model_choice\": \"google-bert/bert-base-multilingual-cased\", \n",
    "}\n",
    "\n",
    "ares = ARES(classifier_model=classifier_config)\n",
    "results = ares.train_classifier()\n",
    "print(results)"
   ]
  },
  {
   "cell_type": "code",
   "execution_count": 20,
   "metadata": {},
   "outputs": [],
   "source": [
    "from transformers import AutoTokenizer, AutoModel\n",
    "tokenizer = AutoTokenizer.from_pretrained('google-bert/bert-base-multilingual-cased')\n",
    "model = AutoModel.from_pretrained(\"google-bert/bert-base-multilingual-cased\")\n",
    "text = \"Replace me by any text you'd like.\"\n",
    "encoded_input = tokenizer(text, return_tensors='pt')\n",
    "output = model(**encoded_input)"
   ]
  },
  {
   "cell_type": "code",
   "execution_count": 21,
   "metadata": {},
   "outputs": [
    {
     "name": "stdout",
     "output_type": "stream",
     "text": [
      "torch.Size([1, 768])\n"
     ]
    }
   ],
   "source": [
    "print(output['pooler_output'].shape)"
   ]
  },
  {
   "cell_type": "code",
   "execution_count": 24,
   "metadata": {},
   "outputs": [
    {
     "data": {
      "text/plain": [
       "512"
      ]
     },
     "execution_count": 24,
     "metadata": {},
     "output_type": "execute_result"
    }
   ],
   "source": [
    "tokenizer.model_max_length"
   ]
  },
  {
   "cell_type": "code",
   "execution_count": null,
   "metadata": {},
   "outputs": [],
   "source": []
  }
 ],
 "metadata": {
  "kernelspec": {
   "display_name": "ares",
   "language": "python",
   "name": "python3"
  },
  "language_info": {
   "codemirror_mode": {
    "name": "ipython",
    "version": 3
   },
   "file_extension": ".py",
   "mimetype": "text/x-python",
   "name": "python",
   "nbconvert_exporter": "python",
   "pygments_lexer": "ipython3",
   "version": "3.10.13"
  }
 },
 "nbformat": 4,
 "nbformat_minor": 2
}
